{
 "cells": [
  {
   "cell_type": "markdown",
   "metadata": {},
   "source": [
    "# Google Colab Setup"
   ]
  },
  {
   "cell_type": "code",
   "execution_count": null,
   "metadata": {},
   "outputs": [],
   "source": [
    "#@title Setup Google Colab by running this cell only once (ignore this if run locally) {display-mode: \"form\"}\n",
    "import sys\n",
    "if 'google.colab' in sys.modules:\n",
    "    # Clone GitHub repository\n",
    "    !git clone https://github.com/AmirKhalilzadeh/tmp.git\n",
    "        \n",
    "    # Copy files required to run the code\n",
    "    !cp -r \"tmp/anomaly_detection_case_study/data\" \"tmp/anomaly_detection_case_study/tools.py\" .\n",
    "    \n",
    "    # Install packages via pip\n",
    "    !pip install -r \"tmp/colab-requirements.txt\"\n",
    "    \n",
    "    # Restart Runtime\n",
    "    import os\n",
    "    os.kill(os.getpid(), 9)"
   ]
  },
  {
   "cell_type": "markdown",
   "metadata": {},
   "source": [
    "# Anomaly detection - the data\n",
    "## Load settings and functions"
   ]
  },
  {
   "cell_type": "code",
   "execution_count": null,
   "metadata": {},
   "outputs": [],
   "source": [
    "%run tools.py"
   ]
  },
  {
   "cell_type": "markdown",
   "metadata": {},
   "source": [
    "## Create dataset"
   ]
  },
  {
   "cell_type": "code",
   "execution_count": null,
   "metadata": {},
   "outputs": [],
   "source": [
    "dataset = create_dataset()"
   ]
  },
  {
   "cell_type": "markdown",
   "metadata": {
    "tags": []
   },
   "source": [
    "<div class=\"alert alert-info\">\n",
    "<h3>Important</h3>\n",
    "\n",
    "<p>When training the model we will only pass it the features of the samples. The model will never see the class labels, and hence can not gain any feedback from comparing them against its own 'decisions'.<br>\n",
    "Thus anomaly detection is an <b>unsupervised</b> machine learning approach.</p>\n",
    "    \n",
    "<p>However, here we will use the class labels to gain further insight by analysing and visualising the data and later for evaluating our model in some more detail.</p>\n",
    "</div>"
   ]
  },
  {
   "cell_type": "markdown",
   "metadata": {},
   "source": [
    "## Explore the training data and visualise 1000 samples\n",
    "\n",
    "1) We look at the distribution of different attack types in our training data.\n",
    "\n",
    "2) We use a TSNE-plot to explore part of our training data.  \n",
    "The TSNE-plot reduces our 51 features to 2 dimensions by trying to represent local structures faithfully."
   ]
  },
  {
   "cell_type": "code",
   "execution_count": null,
   "metadata": {},
   "outputs": [],
   "source": [
    "explore_and_visualise_training_data(dataset)"
   ]
  },
  {
   "cell_type": "markdown",
   "metadata": {
    "tags": []
   },
   "source": [
    "<div class=\"alert alert-success\">\n",
    "<h2>Let's take a closer look</h2>\n",
    "    \n",
    "The following questions are designed to discuss some expectations of the performance of our model and the problems it might encounter.\n",
    "\n",
    "Note: <i>These questions only make sense for training data that has been contaminated</i>.\n",
    "    \n",
    "What do we observe about <br>\n",
    "<ol>\n",
    "<li> the <b>frequency of the different malware types</b> in our data set? </li>\n",
    "<li> the <b>distribution of the different malware types</b> in the TSNE plot? </li>\n",
    "<li> the <b>distribution of the normal samples</b> in the TSNE plot? </li>\n",
    "<li><b>Which types of malware</b> do you expect to be <b>easy to find</b>, and which ones would be <b>harder to detect</b>? </li>\n",
    "</ol>\n",
    "</div>"
   ]
  },
  {
   "cell_type": "markdown",
   "metadata": {},
   "source": [
    "Observations for the demo case of 10000 samples with 10% malware:\n",
    "\n",
    "<ol>\n",
    "<li> The different malware classes are not evenly distributed. Pod and guess_psswrd are very rare while neptune, ipsweep and satan are fairly common.</li>\n",
    "<li> Some malware types are forming their own disjoint clusters (here neptune, smurf and ipsweep) <br>\n",
    "    Some samples are very close to normal samples (here satan, warezclient).</li>\n",
    "<li> The normal samples form multiple clusters, but there also several that are quite isolated in this plot. These could lead to false alarms. </li>\n",
    "<li> Malware that is close to many normal samples will be harder to find. Common malware forming clusters might be misinterpreted as sufficiently common and thus as normal.</li>\n",
    "</ol>"
   ]
  },
  {
   "cell_type": "markdown",
   "metadata": {},
   "source": [
    "# Anomaly detection - the model\n",
    "## Training our model\n",
    "\n",
    "The **expected_contamination** is the portion of anomalies (attacks) that we expect in the real-life test set. This value is independent of the *portion of attacks* we chose to place in the training data.\n",
    "\n",
    "**PCA (Principal Component Analysis)** transforms our data by trying to identify the directions (= combinations of features) in the data in which the data varies most. This might help the Isolation Forest algorithm to isolate anomalies faster, or it might not. "
   ]
  },
  {
   "cell_type": "code",
   "execution_count": null,
   "metadata": {},
   "outputs": [],
   "source": [
    "model, dataset = build_anomaly_detector(\n",
    "    dataset,\n",
    "    expected_contamination=0.1,      # value between 0 and 0.5\n",
    "    with_PCA = False)                # True / False"
   ]
  },
  {
   "cell_type": "markdown",
   "metadata": {},
   "source": [
    "## Evaluating the performance\n",
    "\n",
    "In fo on the plots below:\n",
    "\n",
    "**Histogram**\n",
    "* The x-axis gives the scores assigned by the **decision function** to our different samples.  \n",
    "If it is negative (left side) the sample is considered an anomaly and we interpret this case as a **predicted attack** \n",
    "* The color tells us the true class.\n",
    "\n",
    "**Confusion matrix**: \n",
    "* This plot summarizes the histogram according to the true and predicted labels\n",
    "* The rows correspond to the true classes.\n",
    "* The columns correspond to the predicted classes. Note that here predicted attacks are on the right side.\n",
    "\n",
    "1)  Samples with negative scores are marked as anomalies."
   ]
  },
  {
   "cell_type": "code",
   "execution_count": null,
   "metadata": {},
   "outputs": [],
   "source": [
    "evaluate_model(dataset, model)"
   ]
  },
  {
   "cell_type": "markdown",
   "metadata": {
    "jp-MarkdownHeadingCollapsed": true,
    "tags": []
   },
   "source": [
    "<div class=\"alert alert-success\">\n",
    "<h2>Let's interpret these two plots and their realtionship</h2>\n",
    "\n",
    "<ol>\n",
    "<li>  The blue samples on the left side of the histogram correspond to the normal samples labelled as malware, i.e. they are <b>false warnings</b> This corresponds to the top right square of the confusion matrix. In this demo example there are 33 false warnings.</li>\n",
    "<li>  The orange samples on the right hand side of the histogram correspond malware labelled as normal samples, i.e. they are <b>missed attacks</b> This corresponds to the bottom left square. In this demo example there are 107 missed attacks.</li>\n",
    "<li>  Which one of these two mispredictions is worse for us? The more costly mispredictions are the missed attacks (irrespective of their precise numbers). Hence we prefer to find a setting where we get fewer missed attacks, while accepting more false alarms.</li>\n",
    "</ol>\n",
    "\n",
    "</div>"
   ]
  },
  {
   "cell_type": "markdown",
   "metadata": {},
   "source": [
    "## Taking a more detailed look at our performance\n",
    "\n",
    "1) We look at the performance of our predictions at the level of individual attack types.\n",
    "\n",
    "2) We locate the misclassified samples (triangles, colour gives true label) inside our test set."
   ]
  },
  {
   "cell_type": "code",
   "execution_count": null,
   "metadata": {},
   "outputs": [],
   "source": [
    "detailed_evaluation(dataset, model)"
   ]
  },
  {
   "cell_type": "markdown",
   "metadata": {
    "tags": []
   },
   "source": [
    "<div class=\"alert alert-success\">\n",
    "<h2>Post modelling analysis</h2>\n",
    "\n",
    "<p>Dark blue triangles indicate <b>false alarms</b>, i.e. normal behaviour that was predicted as malware. <br>\n",
    "The other triangles indicate malware that was not detected, i.e. <b>missed attacks</b>.</p>\n",
    "\n",
    "    \n",
    "Let's compare our earlier expectations with the actual performance. We might ask the following questions\n",
    "\n",
    "<ol>\n",
    "<li>  For which types of malware did our model perform well, and for which did it do poorly?</li>\n",
    "<li>  What do you observe about the location of the false alarms?</li>\n",
    "<li>  What do you observe about the location of undetected malware?</li>\n",
    "<li>  Does this match the observations and expectations we made in Part 1?</li>\n",
    "</ol>\n",
    "\n",
    "</div>"
   ]
  },
  {
   "cell_type": "markdown",
   "metadata": {},
   "source": [
    "Observations for the demo case:\n",
    "\n",
    "<ol>\n",
    "<li>  Our model perform very well on neptune and portsweep, as expected it struggled with rarer class. Surprisingly it also struggled a lot with ipsweep.</li>\n",
    "<li>  Some of the false alarms are quite isolated, which might have raised the flag. Others are close to other malware.</li>\n",
    "<li>  Some missed warezclient and satan samples are hiding amongst the normal samples. But other missed attacks are forming big groups.</li>\n",
    "<li>  For this demo case this matches our expectations only in parts. It appears that some denser groups in the training data were considered as normal by the model.</li>\n",
    "</ol> "
   ]
  },
  {
   "cell_type": "markdown",
   "metadata": {
    "tags": []
   },
   "source": [
    "# Additional tasks\n",
    "\n",
    "Unless specified all observations below are based on 10000 samples and 10% malwaree in the training data."
   ]
  },
  {
   "cell_type": "markdown",
   "metadata": {
    "tags": []
   },
   "source": [
    "<div class=\"alert alert-success\">\n",
    "<h2>Task 1</h2>\n",
    "\n",
    "Let's vary the `expected_contamination` parameter which is used by the model to make decisions. <br>     You only need to run cells in section 2 \"Anomaly detection - the model\" <br>    \n",
    "What do you observe about distribution of the outlier scores and the position of the decision boundary?<br>\n",
    "</div>"
   ]
  },
  {
   "cell_type": "markdown",
   "metadata": {},
   "source": [
    "Observations:"
   ]
  },
  {
   "cell_type": "markdown",
   "metadata": {
    "tags": []
   },
   "source": [
    "<div class=\"alert alert-success\">\n",
    "<h2>Task 2</h2>\n",
    "\n",
    "You need to rerun the entire notebook here. <br>\n",
    "1. Vary the size of your training data.<br> \n",
    "2. Vary the portion of attacks in your training data.<br>\n",
    "3. In particular let's see how the model performs when we only use totally clean training data without any anomalies.<br>\n",
    "</div>"
   ]
  },
  {
   "cell_type": "markdown",
   "metadata": {},
   "source": [
    "Observations:"
   ]
  },
  {
   "cell_type": "markdown",
   "metadata": {},
   "source": [
    "<div class=\"alert alert-success\">\n",
    "<h2>Task 3</h2>\n",
    "    \n",
    "Let's see whether using PCA before training our model helps. <br> \n",
    "You only need to run cells in  section 2 \"Anomaly detection - the model\"<br>\n",
    "    \n",
    "Set `with_PCA = True` inside the `build_anomaly_detector`. <br>\n",
    "</div>"
   ]
  },
  {
   "cell_type": "markdown",
   "metadata": {},
   "source": [
    "Observations:"
   ]
  }
 ],
 "metadata": {
  "kernelspec": {
   "display_name": "Python [conda env:adsml_v3_M1] *",
   "language": "python",
   "name": "conda-env-adsml_v3_M1-py"
  },
  "language_info": {
   "codemirror_mode": {
    "name": "ipython",
    "version": 3
   },
   "file_extension": ".py",
   "mimetype": "text/x-python",
   "name": "python",
   "nbconvert_exporter": "python",
   "pygments_lexer": "ipython3",
   "version": "3.9.18"
  }
 },
 "nbformat": 4,
 "nbformat_minor": 4
}
